{
  "nbformat": 4,
  "nbformat_minor": 0,
  "metadata": {
    "colab": {
      "provenance": []
    },
    "kernelspec": {
      "name": "python3",
      "display_name": "Python 3"
    },
    "language_info": {
      "name": "python"
    }
  },
  "cells": [
    {
      "cell_type": "markdown",
      "source": [
        "1.What is the difference between interpreted and compiled languages\n",
        "\n",
        "->Interpreted languages execute code line by line using an interpreter (e.g., Python), while compiled languages translate the entire code into machine language using a compiler before execution\n",
        "\n",
        "2.What is exception handling in Python\n",
        "\n",
        "->Exception handling in Python allows you to manage errors gracefully by using blocks like try, except, else, and finally to catch and handle exceptions during runtime.\n",
        "\n",
        "3.What is the purpose of the finally block in exception handling\n",
        "\n",
        "->The finally block is used to execute code that must run regardless of whether an exception was raised or not, such as cleanup tasks.\n",
        "\n",
        "4.What is logging in Python0\n",
        "\n",
        "->Logging in Python is a way to track events that occur during the execution of a program, useful for debugging and monitoring purposes.\n",
        "\n",
        "5.What is the significance of the __del__ method in Python\n",
        "\n",
        "->The __del__ method is a destructor that is automatically called when an object is deleted to perform cleanup tasks like closing files or releasing resources.\n",
        "\n",
        "6.F What is the difference between import and from ... import in Python\n",
        "\n",
        "-> import brings an entire module into the scope, while from ... import allows you to import specific functions or variables directly.\n",
        "\n",
        "7.How can you handle multiple exceptions in Python\n",
        "\n",
        "->You can handle multiple exceptions using multiple except blocks or a single except block with a tuple of exception types.\n",
        "\n",
        "8.What is the purpose of the with statement when handling files in Python\n",
        "\n",
        "->The with statement ensures that files are properly opened and closed, even if an exception occurs.\n",
        "\n",
        "9.What is the difference between multithreading and multiprocessing\n",
        "\n",
        "-> Multithreading involves multiple threads within a single process sharing memory, while multiprocessing involves multiple processes with separate memory spaces.\n",
        "\n",
        "10.What are the advantages of using logging in a program\n",
        "\n",
        "->Logging helps in debugging, monitoring, auditing, and analyzing issues in a program without disrupting its flow.\n",
        "\n",
        "11.What is memory management in Python0\n",
        "\n",
        "->Memory management in Python involves automatic allocation and deallocation of memory using a garbage collector to manage objects no longer in use.\n",
        "\n",
        "12.What are the basic steps involved in exception handling in Python0\n",
        "\n",
        "->What are the basic steps involved in exception handling in Python?\n",
        "\n",
        "-> The steps include:\n",
        "1.Wrapping code that may raise exceptions in a try block.\n",
        "2.Catching exceptions in an except block.\n",
        "3.Optionally using else for code to run if no exception occurs.\n",
        "4.Using finally for cleanup tasks.\n",
        "\n",
        "13.Why is memory management important in Python\n",
        "\n",
        "->it ensures efficient use of memory, prevents memory leaks, and improves the overall performance of applications.\n",
        "\n",
        "14.F What is the role of try and except in exception handling\n",
        "\n",
        "->The try block contains code that may raise exceptions, and the except block catches and handles those exceptions.\n",
        "\n",
        "15.How does Python's garbage collection system work\n",
        "\n",
        "->Python uses reference counting and a cyclic garbage collector to automatically reclaim memory by deallocating objects no longer in use.\n",
        "\n",
        "16.What is the purpose of the else block in exception handling\n",
        "\n",
        "->The else block executes code if no exceptions are raised in the try block.\n",
        "\n",
        "17.What are the common logging levels in Python\n",
        "\n",
        "->The common logging levels are:\n",
        "DEBUG\n",
        "INFO\n",
        "WARNING\n",
        "ERROR\n",
        "CRITICAL\n",
        "\n",
        "18.What is the difference between os.fork() and multiprocessing in Python\n",
        "\n",
        "->os.fork() creates a new process by duplicating the current process, available only on Unix-like systems. The multiprocessing module provides a platform-independent API for process creation and management.\n",
        "\n",
        "19.What is the importance of closing a file in Python\n",
        "\n",
        "->Closing a file ensures that resources are released, data is written to disk, and potential data corruption is prevented.\n",
        "\n",
        "20.What is the difference between file.read() and file.readline() in Python0\n",
        "\n",
        "-> file.read() reads the entire file (or specified number of bytes), while file.readline() reads only one line at a time.\n",
        "\n",
        "21.What is the logging module in Python used fo\n",
        "\n",
        "->The logging module is used for recording events, debugging, and tracking issues in an application.\n",
        "\n",
        "22.What is the os module in Python used for in file handling\n",
        "\n",
        "->The os module provides functions to interact with the operating system, including file manipulation tasks like creating, deleting, and navigating directories.\n",
        "\n",
        "23.What are the challenges associated with memory management in Python\n",
        "\n",
        "-> Challenges include handling circular references, managing large data structures efficiently, and avoiding memory leaks.\n",
        "\n",
        "24.How do you raise an exception manually in Python0\n",
        "\n",
        "->You can use the raise keyword followed by an exception type to raise an exception manually.\n",
        "\n",
        "25.Why is it important to use multithreading in certain applications?\n",
        "\n",
        "->Multithreading improves performance in I/O-bound tasks, allows parallelism, and enhances responsiveness in applications like GUIs or servers."
      ],
      "metadata": {
        "id": "bWnwa2ei-vlO"
      }
    },
    {
      "cell_type": "code",
      "execution_count": 6,
      "metadata": {
        "id": "v6TqUQaO-tyz"
      },
      "outputs": [],
      "source": [
        "#1.How can you open a file for writing in Python and write a string to it\n",
        "with open(\"example.txt\", \"w\") as file:\n",
        "    file.write(\"This is a sample string.\")"
      ]
    },
    {
      "cell_type": "code",
      "source": [
        "#2.Write a Python program to read the contents of a file and print each line\n",
        "with open(\"file.txt\", \"r\") as file:\n",
        "    for line in file:\n",
        "        print(line.strip())"
      ],
      "metadata": {
        "id": "-4iA-4eSEDfu"
      },
      "execution_count": null,
      "outputs": []
    },
    {
      "cell_type": "code",
      "source": [
        "#3.How would you handle a case where the file doesn't exist while trying to open it for reading\n",
        "try:\n",
        "    with open(\"file2.txt\", \"r\") as file:\n",
        "        print(file.read())\n",
        "except Exception as e:\n",
        "    print(\"The file does not exist.\", e)\n"
      ],
      "metadata": {
        "colab": {
          "base_uri": "https://localhost:8080/"
        },
        "id": "dN5HEHBNCDCz",
        "outputId": "ccff22c4-5b16-481c-ef98-57fa3fde27b8"
      },
      "execution_count": 9,
      "outputs": [
        {
          "output_type": "stream",
          "name": "stdout",
          "text": [
            "The file does not exist. [Errno 2] No such file or directory: 'file2.txt'\n"
          ]
        }
      ]
    },
    {
      "cell_type": "code",
      "source": [
        "#4.Write a Python script that reads from one file and writes its content to another file\n",
        "with open(\"source.txt\", \"r\") as source, open(\"destination.txt\", \"w\") as dest:\n",
        "    dest.write(source.read())\n"
      ],
      "metadata": {
        "id": "OsdPmA9EFUKX"
      },
      "execution_count": null,
      "outputs": []
    },
    {
      "cell_type": "code",
      "source": [
        "#5.How would you catch and handle division by zero error in Python\n",
        "try:\n",
        "    result = 10 / 0\n",
        "except Exception as e:\n",
        "    print(\"Division by zero is not allowed.\",e)\n"
      ],
      "metadata": {
        "colab": {
          "base_uri": "https://localhost:8080/"
        },
        "id": "h91OqIT8CC2n",
        "outputId": "71b4aba1-e9c8-4d39-8ef3-1cbf52533e50"
      },
      "execution_count": 11,
      "outputs": [
        {
          "output_type": "stream",
          "name": "stdout",
          "text": [
            "Division by zero is not allowed. division by zero\n"
          ]
        }
      ]
    },
    {
      "cell_type": "code",
      "source": [
        "#6.Write a Python program that logs an error message to a log file when a division by zero exception occursF\n",
        "import logging\n",
        "\n",
        "logging.basicConfig(filename=\"errors.log\", level=logging.ERROR)\n",
        "\n",
        "try:\n",
        "    result = 10 / 0\n",
        "except ZeroDivisionError:\n",
        "    logging.error(\"Attempted division by zero.\", exc_info=True)\n"
      ],
      "metadata": {
        "colab": {
          "base_uri": "https://localhost:8080/"
        },
        "id": "ky_ocbO8CCwl",
        "outputId": "1d212f31-e8f4-4c66-a175-126ecfcd96c2"
      },
      "execution_count": 12,
      "outputs": [
        {
          "output_type": "stream",
          "name": "stderr",
          "text": [
            "ERROR:root:Attempted division by zero.\n",
            "Traceback (most recent call last):\n",
            "  File \"<ipython-input-12-2872cdead198>\", line 7, in <cell line: 6>\n",
            "    result = 10 / 0\n",
            "ZeroDivisionError: division by zero\n"
          ]
        }
      ]
    },
    {
      "cell_type": "code",
      "source": [
        "#7.How do you log information at different levels (INFO, ERROR, WARNING) in Python using the logging module\n",
        "import logging\n",
        "\n",
        "logging.basicConfig(level=logging.DEBUG)\n",
        "\n",
        "logging.info(\"This is an info message.\")\n",
        "logging.warning(\"This is a warning message.\")\n",
        "logging.error(\"This is an error message.\")\n"
      ],
      "metadata": {
        "colab": {
          "base_uri": "https://localhost:8080/"
        },
        "id": "AReFzv5pCCqt",
        "outputId": "403d0063-8eba-4d12-ea87-6fb49c5202ae"
      },
      "execution_count": 13,
      "outputs": [
        {
          "output_type": "stream",
          "name": "stderr",
          "text": [
            "WARNING:root:This is a warning message.\n",
            "ERROR:root:This is an error message.\n"
          ]
        }
      ]
    },
    {
      "cell_type": "code",
      "source": [
        "#8.F Write a program to handle a file opening error using exception handlingF\n",
        "try:\n",
        "    with open(\"file3.txt\", \"r\") as file:\n",
        "        print(file.read())\n",
        "except Exception as e:\n",
        "    print(\"File not found. Please check the file path.\",e)\n"
      ],
      "metadata": {
        "colab": {
          "base_uri": "https://localhost:8080/"
        },
        "id": "slwvBg-rCCkI",
        "outputId": "44a99ad5-caa1-4faa-afee-a89a811cd22c"
      },
      "execution_count": 15,
      "outputs": [
        {
          "output_type": "stream",
          "name": "stdout",
          "text": [
            "File not found. Please check the file path. [Errno 2] No such file or directory: 'file3.txt'\n"
          ]
        }
      ]
    },
    {
      "cell_type": "code",
      "source": [
        "#9.How can you read a file line by line and store its content in a list in Python\n",
        "with open(\"file.txt\", \"r\") as file:\n",
        "    lines = [line.strip() for line in file]\n",
        "print(lines)\n"
      ],
      "metadata": {
        "id": "4nnuWvFcCCeA"
      },
      "execution_count": null,
      "outputs": []
    },
    {
      "cell_type": "code",
      "source": [
        "#10.How can you append data to an existing file in Python\n",
        "with open(\"file.txt\", \"a\") as file:\n",
        "    file.write(\"\\nAppended data.\")\n"
      ],
      "metadata": {
        "id": "3yBM5brvCCXr"
      },
      "execution_count": 16,
      "outputs": []
    },
    {
      "cell_type": "code",
      "source": [
        "#11.Write a Python program that uses a try-except block to handle an error when attempting to access a dictionary key that doesn't existF\n",
        "try:\n",
        "    my_dict = {\"key1\": \"value1\"}\n",
        "    print(my_dict[\"key2\"])\n",
        "except Exception as e:\n",
        "    print(\"Key not found in dictionary.\",e)\n"
      ],
      "metadata": {
        "colab": {
          "base_uri": "https://localhost:8080/"
        },
        "id": "_I1-2xvBCCRV",
        "outputId": "6e13a80e-6701-4fff-8e49-23bcd64b411d"
      },
      "execution_count": 18,
      "outputs": [
        {
          "output_type": "stream",
          "name": "stdout",
          "text": [
            "Key not found in dictionary. 'key2'\n"
          ]
        }
      ]
    },
    {
      "cell_type": "code",
      "source": [
        "#12.Write a program that demonstrates using multiple except blocks to handle different types of exceptions\n",
        "try:\n",
        "    my_list = [1, 2, 3]\n",
        "    print(my_list[5])  # IndexError\n",
        "    result = 10 / 0  # ZeroDivisionError\n",
        "except IndexError:\n",
        "    print(\"Index out of range.\")\n",
        "except Exception as e:\n",
        "    print(\"Division by zero error.\",e)\n"
      ],
      "metadata": {
        "colab": {
          "base_uri": "https://localhost:8080/"
        },
        "id": "t9jJ5c-fCCK3",
        "outputId": "5310450b-5c4b-4be8-c3ee-ecf843883f4d"
      },
      "execution_count": 19,
      "outputs": [
        {
          "output_type": "stream",
          "name": "stdout",
          "text": [
            "Index out of range.\n"
          ]
        }
      ]
    },
    {
      "cell_type": "code",
      "source": [
        "#13.How would you check if a file exists before attempting to read it in Python\n",
        "import os\n",
        "\n",
        "if os.path.exists(\"file.txt\"):\n",
        "    with open(\"file.txt\", \"r\") as file:\n",
        "        print(file.read())\n",
        "else:\n",
        "    print(\"File does not exist.\")\n"
      ],
      "metadata": {
        "colab": {
          "base_uri": "https://localhost:8080/"
        },
        "id": "YXGWHwGZCCF3",
        "outputId": "61ea0067-31f1-4d6c-ad38-b315f9e6c00f"
      },
      "execution_count": 20,
      "outputs": [
        {
          "output_type": "stream",
          "name": "stdout",
          "text": [
            "\n",
            "Appended data.\n"
          ]
        }
      ]
    },
    {
      "cell_type": "code",
      "source": [
        "#14.Write a program that uses the logging module to log both informational and error messages\n",
        "import logging\n",
        "\n",
        "logging.basicConfig(filename=\"app.log\", level=logging.DEBUG)\n",
        "\n",
        "logging.info(\"This is an informational message.\")\n",
        "logging.error(\"This is an error message.\")\n"
      ],
      "metadata": {
        "colab": {
          "base_uri": "https://localhost:8080/"
        },
        "id": "qfEXeEN0CCAS",
        "outputId": "a8061d83-de9d-451b-cc01-663671f5dc9f"
      },
      "execution_count": 21,
      "outputs": [
        {
          "output_type": "stream",
          "name": "stderr",
          "text": [
            "ERROR:root:This is an error message.\n"
          ]
        }
      ]
    },
    {
      "cell_type": "code",
      "source": [
        "#15.Write a Python program that prints the content of a file and handles the case when the file is empty\n",
        "with open(\"file.txt\", \"r\") as file:\n",
        "    content = file.read()\n",
        "    if not content:\n",
        "        print(\"The file is empty.\")\n",
        "    else:\n",
        "        print(content)\n"
      ],
      "metadata": {
        "colab": {
          "base_uri": "https://localhost:8080/"
        },
        "id": "hOwLgZ_jCB7P",
        "outputId": "cb1714e0-ab5a-4e21-cd68-83cb0846d162"
      },
      "execution_count": 22,
      "outputs": [
        {
          "output_type": "stream",
          "name": "stdout",
          "text": [
            "\n",
            "Appended data.\n"
          ]
        }
      ]
    },
    {
      "cell_type": "code",
      "source": [
        "#16.Demonstrate how to use memory profiling to check the memory usage of a small programF\n",
        "from memory_profiler import profile\n",
        "\n",
        "@profile\n",
        "def memory_test():\n",
        "    x = [i for i in range(100000)]\n",
        "    return x\n",
        "\n",
        "memory_test()\n"
      ],
      "metadata": {
        "id": "zAxUEvpuCB1j"
      },
      "execution_count": null,
      "outputs": []
    },
    {
      "cell_type": "code",
      "source": [
        "#17.Write a Python program to create and write a list of numbers to a file, one number per line\n",
        "numbers = [1, 2, 3, 4, 5]\n",
        "\n",
        "with open(\"numbers.txt\", \"w\") as file:\n",
        "    for num in numbers:\n",
        "        file.write(f\"{num}\\n\")\n"
      ],
      "metadata": {
        "id": "gA8rMad2CBv_"
      },
      "execution_count": 23,
      "outputs": []
    },
    {
      "cell_type": "code",
      "source": [
        "#18.How would you implement a basic logging setup that logs to a file with rotation after 1M\n",
        "import logging\n",
        "from logging.handlers import RotatingFileHandler\n",
        "\n",
        "handler = RotatingFileHandler(\"app.log\", maxBytes=1_000_000, backupCount=5)\n",
        "logging.basicConfig(level=logging.INFO, handlers=[handler])\n",
        "\n",
        "logging.info(\"This is a log message with rotation.\")\n"
      ],
      "metadata": {
        "id": "q7GypXdACBqT"
      },
      "execution_count": 24,
      "outputs": []
    },
    {
      "cell_type": "code",
      "source": [
        "#19.Write a program that handles both IndexError and KeyError using a try-except block\n",
        "try:\n",
        "    my_list = [1, 2, 3]\n",
        "    print(my_list[5])\n",
        "    my_dict = {\"key1\": \"value1\"}\n",
        "    print(my_dict[\"key2\"])\n",
        "except Exception as e:\n",
        "    print(\"Index out of range.\",e)\n",
        "except Exception as e:\n",
        "    print(\"Key not found in dictionary.\",e)\n"
      ],
      "metadata": {
        "id": "EV2mv1MiCBlB"
      },
      "execution_count": null,
      "outputs": []
    },
    {
      "cell_type": "code",
      "source": [
        "#20.How would you open a file and read its contents using a context manager in Python\n",
        "with open(\"file.txt\", \"r\") as file:\n",
        "    print(file.read())\n"
      ],
      "metadata": {
        "id": "H-Ks8SCmCBgz"
      },
      "execution_count": null,
      "outputs": []
    },
    {
      "cell_type": "code",
      "source": [
        "#21.Write a Python program that reads a file and prints the number of occurrences of a specific word\n",
        "word_to_find = \"example\"\n",
        "\n",
        "with open(\"file.txt\", \"r\") as file:\n",
        "    content = file.read()\n",
        "    count = content.split().count(word_to_find)\n",
        "    print(f\"The word '{word_to_find}' occurs {count} times.\")\n"
      ],
      "metadata": {
        "colab": {
          "base_uri": "https://localhost:8080/"
        },
        "id": "X4uPHvdhCBcY",
        "outputId": "8b05c9ec-9a5c-437f-e2fe-9914e205c22d"
      },
      "execution_count": 25,
      "outputs": [
        {
          "output_type": "stream",
          "name": "stdout",
          "text": [
            "The word 'example' occurs 0 times.\n"
          ]
        }
      ]
    },
    {
      "cell_type": "code",
      "source": [
        "#22.How can you check if a file is empty before attempting to read its content\n",
        "import os\n",
        "\n",
        "if os.path.exists(\"file.txt\") and os.stat(\"file.txt\").st_size == 0:\n",
        "    print(\"The file is empty.\")\n",
        "else:\n",
        "    print(\"The file is not empty.\")\n"
      ],
      "metadata": {
        "colab": {
          "base_uri": "https://localhost:8080/"
        },
        "id": "Cv9cikEjCBZJ",
        "outputId": "77bfb522-d9b8-4634-d1ec-87d96cc9fbe0"
      },
      "execution_count": 26,
      "outputs": [
        {
          "output_type": "stream",
          "name": "stdout",
          "text": [
            "The file is not empty.\n"
          ]
        }
      ]
    },
    {
      "cell_type": "code",
      "source": [
        "#23.Write a Python program that writes to a log file when an error occurs during file handling\n",
        "import logging\n",
        "\n",
        "logging.basicConfig(filename=\"file_errors.log\", level=logging.ERROR)\n",
        "\n",
        "try:\n",
        "    with open(\"file.txt\", \"r\") as file:\n",
        "        print(file.read())\n",
        "except Exception as e:\n",
        "    logging.error(\"An error occurred during file handling.\", exc_info=True)\n"
      ],
      "metadata": {
        "colab": {
          "base_uri": "https://localhost:8080/"
        },
        "id": "z-4HTxBeCBU1",
        "outputId": "c4655c72-b6c8-4744-89f7-fd8507880678"
      },
      "execution_count": 27,
      "outputs": [
        {
          "output_type": "stream",
          "name": "stdout",
          "text": [
            "\n",
            "Appended data.\n"
          ]
        }
      ]
    }
  ]
}